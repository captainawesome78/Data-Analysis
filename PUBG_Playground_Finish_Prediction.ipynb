{
  "cells": [
    {
      "cell_type": "markdown",
      "metadata": {
        "id": "view-in-github",
        "colab_type": "text"
      },
      "source": [
        "<a href=\"https://colab.research.google.com/github/captainawesome78/Data-Analysis/blob/main/PUBG_Playground_Finish_Prediction.ipynb\" target=\"_parent\"><img src=\"https://colab.research.google.com/assets/colab-badge.svg\" alt=\"Open In Colab\"/></a>"
      ]
    },
    {
      "cell_type": "code",
      "execution_count": 1,
      "metadata": {
        "id": "K-Va5FYeAFzN"
      },
      "outputs": [],
      "source": [
        "# Jovian Commit Essentials\n",
        "# Please retain and execute this cell without modifying the contents for `jovian.commit` to work\n",
        "!pip install jovian --upgrade -q\n",
        "import jovian\n",
        "jovian.set_project('pubg-playground-finish-prediction')\n",
        "jovian.set_colab_id('14MlU_KC76IOg9BbPwa7uO8FbjjPFw4VV')"
      ]
    },
    {
      "cell_type": "markdown",
      "metadata": {
        "id": "mJQN0N97AFzQ"
      },
      "source": [
        "# PUBG Playground\n"
      ]
    },
    {
      "cell_type": "markdown",
      "metadata": {
        "id": "2fd1H9BfAFzS"
      },
      "source": [
        "## About\n",
        "In a PUBG game, up to 100 players start in each match (matchId). Players can be on teams (groupId) which get ranked at the end of the game (winPlacePerc) based on how many other teams are still alive when they are eliminated. In game, players can pick up different munitions, revive downed-but-not-out (knocked) teammates, drive vehicles, swim, run, shoot, and experience all of the consequences -- such as falling too far or running themselves over and eliminating themselves.\n",
        "\n",
        "You are provided with a large number of anonymized PUBG game stats, formatted so that each row contains one player's post-game stats. The data comes from matches of all types: solos, duos, squads, and custom; there is no guarantee of there being 100 players per match, nor at most 4 player per group.\n"
      ]
    },
    {
      "cell_type": "markdown",
      "metadata": {
        "id": "kuT0BqJ_AFzT"
      },
      "source": [
        "## Why are you summoned\n",
        "You are to predict the players finishing placement based on on their final stats, on a scale from 1 (first place) to 0 (last place).\n",
        "\n",
        "All the very best!"
      ]
    },
    {
      "cell_type": "markdown",
      "metadata": {
        "id": "pG2OIWopAFzT"
      },
      "source": [
        "# The Overview\n",
        "\n",
        "### Downloading the data\n",
        "- Loading it into a pandas dataframe\n",
        "- Exploring the dataset\n",
        "\n",
        "### Processing and Feature Engineering\n",
        "- Checking for Duplicate values\n",
        "- Checking for missing values\n",
        "\n",
        "### Exploratory Data Analysis and Visualization\n",
        "- Target Variable\n",
        "- correlation Heatmap\n",
        "\n",
        "### Identifying Input and Target Columns\n",
        "- Creating a list of Input columns and target columns\n",
        "\n",
        "### Categorical and Numeric Columns\n",
        "- Imputing missing numerical columns\n",
        "- Scaling numerical values\n",
        "- Encoding categorical columns\n",
        "\n",
        "### Splitting the data for training\n",
        "- Creating Training data(X_train)\n",
        "- Creating Validation data(X_val)\n",
        "\n",
        "## Training and Tuning Different Models\n",
        "- Regression\n",
        "- Decision Trees\n",
        "- Random Forest Regression\n",
        "- XGBRegressor from xgboost\n",
        "- Gradient Boosting \n",
        "\n",
        "### Training Final Model\n",
        "- Selecting the best performing model to make final predictions\n",
        "\n",
        "### Saving The Model\n",
        "- Using joblib\n",
        "\n",
        "### Test Prediction\n",
        "- The results\n",
        "\n",
        "### Conclusion\n",
        "- Summary\n",
        "- Further Explorations"
      ]
    },
    {
      "cell_type": "code",
      "execution_count": 1,
      "metadata": {
        "id": "pDcAuPa8AFzU"
      },
      "outputs": [],
      "source": [
        ""
      ]
    },
    {
      "cell_type": "code",
      "execution_count": 2,
      "metadata": {
        "id": "wR8zxXi8AFzV"
      },
      "outputs": [],
      "source": [
        "!pip install jovian --upgrade --quiet"
      ]
    },
    {
      "cell_type": "code",
      "execution_count": 3,
      "metadata": {
        "id": "fyshkkn1AFzV"
      },
      "outputs": [],
      "source": [
        "import jovian"
      ]
    },
    {
      "cell_type": "code",
      "execution_count": 4,
      "metadata": {
        "id": "PI1IY0thAFzW",
        "outputId": "be73bd82-801c-4300-968e-4982ed965057",
        "colab": {
          "base_uri": "https://localhost:8080/",
          "height": 105
        }
      },
      "outputs": [
        {
          "output_type": "stream",
          "name": "stdout",
          "text": [
            "[jovian] Detected Colab notebook...\u001b[0m\n",
            "[jovian] Uploading colab notebook to Jovian...\u001b[0m\n"
          ]
        },
        {
          "output_type": "stream",
          "name": "stderr",
          "text": [
            "\u001b[31m[jovian] Error: Looks like the notebook is missing output cells, please save the notebook and try jovian.commit again.\u001b[0m\n"
          ]
        },
        {
          "output_type": "stream",
          "name": "stdout",
          "text": [
            "Committed successfully! https://jovian.ai/mailmenaveed88/pubg-playground-finish-prediction\n"
          ]
        },
        {
          "output_type": "execute_result",
          "data": {
            "text/plain": [
              "'https://jovian.ai/mailmenaveed88/pubg-playground-finish-prediction'"
            ],
            "application/vnd.google.colaboratory.intrinsic+json": {
              "type": "string"
            }
          },
          "metadata": {},
          "execution_count": 4
        }
      ],
      "source": [
        "# Execute this to save new versions of the notebook\n",
        "jovian.commit(project=\"PUBG-Playground-Finish-Prediction\")"
      ]
    },
    {
      "cell_type": "markdown",
      "metadata": {
        "id": "_VMKYM7qAFzX"
      },
      "source": [
        "Lets install all the necessary libaries"
      ]
    },
    {
      "cell_type": "code",
      "execution_count": 5,
      "metadata": {
        "id": "cym8Y1QLAFzX"
      },
      "outputs": [],
      "source": [
        "\n",
        "!pip install numpy pandas-profiling matplotlib seaborn --quiet\n",
        "!pip install opendatasets xgboost graphviz lightgbm scikit-learn xgboost lightgbm --quiet"
      ]
    },
    {
      "cell_type": "code",
      "execution_count": 6,
      "metadata": {
        "id": "p-G2CZGJAFzY"
      },
      "outputs": [],
      "source": [
        "import os\n",
        "import opendatasets as od\n",
        "import pandas as pd\n",
        "pd.set_option(\"display.max_columns\", 200)\n",
        "pd.set_option(\"display.max_rows\", 200)"
      ]
    },
    {
      "cell_type": "markdown",
      "metadata": {
        "id": "ZJBuFJB0AFzY"
      },
      "source": [
        "Downloading the dataset from Kaggle"
      ]
    },
    {
      "cell_type": "code",
      "execution_count": 7,
      "metadata": {
        "id": "UWKjRrYkAFzY",
        "colab": {
          "base_uri": "https://localhost:8080/"
        },
        "outputId": "f824f979-c354-482e-fc4c-2a2975c0ec8b"
      },
      "outputs": [
        {
          "output_type": "stream",
          "name": "stdout",
          "text": [
            "Skipping, found downloaded files in \"./pubg-finish-placement-prediction\" (use force=True to force download)\n"
          ]
        }
      ],
      "source": [
        "od.download('https://www.kaggle.com/c/pubg-finish-placement-prediction/data')"
      ]
    },
    {
      "cell_type": "code",
      "execution_count": 8,
      "metadata": {
        "id": "YZ5YdXzwAFzZ",
        "colab": {
          "base_uri": "https://localhost:8080/"
        },
        "outputId": "796d68a5-1be3-4cf3-87e7-ec70e0fe4079"
      },
      "outputs": [
        {
          "output_type": "execute_result",
          "data": {
            "text/plain": [
              "['test_V2.csv', 'sample_submission_V2.csv', 'train_V2.csv']"
            ]
          },
          "metadata": {},
          "execution_count": 8
        }
      ],
      "source": [
        "os.listdir('pubg-finish-placement-prediction')\n",
        "# Provides you the list of files present in the folder"
      ]
    },
    {
      "cell_type": "markdown",
      "metadata": {
        "id": "ynRRVgFIAFzZ"
      },
      "source": [
        "Lets read the dataset train.csv and test.csv"
      ]
    },
    {
      "cell_type": "code",
      "execution_count": null,
      "metadata": {
        "id": "EUpZ5XgoAFzZ"
      },
      "outputs": [],
      "source": [
        "train_df = pd.read_csv('pubg-finish-placement-prediction/train_V2.csv')\n",
        "test_df = pd.read_csv('pubg-finish-placement-prediction/test_V2.csv')"
      ]
    },
    {
      "cell_type": "markdown",
      "metadata": {
        "id": "qqy-k0t-AFzZ"
      },
      "source": [
        "Lets look at the traning data and the test data"
      ]
    },
    {
      "cell_type": "code",
      "execution_count": null,
      "metadata": {
        "id": "1IfD7qvYAFza"
      },
      "outputs": [],
      "source": [
        "train_df.head()\n"
      ]
    },
    {
      "cell_type": "code",
      "execution_count": null,
      "metadata": {
        "id": "9AJTZ6nvAFza"
      },
      "outputs": [],
      "source": [
        "test_df.head()"
      ]
    },
    {
      "cell_type": "markdown",
      "source": [
        "Lets check the shape of the training set and test set"
      ],
      "metadata": {
        "id": "jnBXHkg1Ckry"
      }
    },
    {
      "cell_type": "code",
      "source": [
        "train_df.shape\n"
      ],
      "metadata": {
        "id": "2dMr_iJPCuD0"
      },
      "execution_count": null,
      "outputs": []
    },
    {
      "cell_type": "code",
      "source": [
        "test_df.shape"
      ],
      "metadata": {
        "id": "AxgHMg9Mm-sg"
      },
      "execution_count": null,
      "outputs": []
    },
    {
      "cell_type": "markdown",
      "source": [
        "As above there are rows and columns for train_df and test_df"
      ],
      "metadata": {
        "id": "ktXrOj2dnEPZ"
      }
    },
    {
      "cell_type": "code",
      "source": [
        "train_df.info()"
      ],
      "metadata": {
        "id": "2vFg78djnhiE"
      },
      "execution_count": null,
      "outputs": []
    },
    {
      "cell_type": "code",
      "source": [
        "train_df.describe()"
      ],
      "metadata": {
        "id": "Hune9fSfn9At"
      },
      "execution_count": null,
      "outputs": []
    },
    {
      "cell_type": "markdown",
      "source": [
        "Lets check the missinf values in both train and test dataframe"
      ],
      "metadata": {
        "id": "BRFqQgWSoWpc"
      }
    },
    {
      "cell_type": "code",
      "source": [
        "train_df.isna().sum()"
      ],
      "metadata": {
        "id": "Viw8StGBob-9"
      },
      "execution_count": null,
      "outputs": []
    },
    {
      "cell_type": "code",
      "source": [
        "test_df.isna().sum()"
      ],
      "metadata": {
        "id": "H-rDdE6NohdA"
      },
      "execution_count": null,
      "outputs": []
    },
    {
      "cell_type": "markdown",
      "source": [
        "As you can see there is just one missing enrty, we can drop the NA values"
      ],
      "metadata": {
        "id": "MPE_YJXyolWb"
      }
    },
    {
      "cell_type": "code",
      "source": [
        "train_df.dropna(subset = ['winPlacePerc'], inplace=True)"
      ],
      "metadata": {
        "id": "SUlPaKvyolDM"
      },
      "execution_count": null,
      "outputs": []
    },
    {
      "cell_type": "code",
      "source": [
        "train_df.isna().sum()"
      ],
      "metadata": {
        "id": "vLuOmMvHqQbk"
      },
      "execution_count": null,
      "outputs": []
    },
    {
      "cell_type": "markdown",
      "source": [
        "## Lets perform Exploratory Data Analysis now"
      ],
      "metadata": {
        "id": "LmFCY-bFqQMe"
      }
    },
    {
      "cell_type": "markdown",
      "source": [
        "Lets look at the columns in train_df"
      ],
      "metadata": {
        "id": "0rb45i2Lv8hi"
      }
    },
    {
      "cell_type": "code",
      "source": [
        "train_df.columns"
      ],
      "metadata": {
        "id": "C508m2FEwdG4"
      },
      "execution_count": null,
      "outputs": []
    },
    {
      "cell_type": "code",
      "source": [
        ""
      ],
      "metadata": {
        "id": "ukY1HBIOv7AG"
      },
      "execution_count": null,
      "outputs": []
    },
    {
      "cell_type": "markdown",
      "source": [
        ""
      ],
      "metadata": {
        "id": "FCDGsgMHqcfb"
      }
    },
    {
      "cell_type": "code",
      "source": [
        "import seaborn as sns\n",
        "sns.distplot(train_df['boosts'])"
      ],
      "metadata": {
        "id": "PkkAJQWRqc48"
      },
      "execution_count": null,
      "outputs": []
    },
    {
      "cell_type": "markdown",
      "source": [
        "Let us perform some OLS assumptions"
      ],
      "metadata": {
        "id": "XcF4RhIQwpSF"
      }
    },
    {
      "cell_type": "code",
      "source": [
        "!pip install matplotlib\n",
        "\n"
      ],
      "metadata": {
        "id": "6YcmGGjWwsOg"
      },
      "execution_count": null,
      "outputs": []
    },
    {
      "cell_type": "code",
      "source": [
        "import matplotlib.pyplot as plt\n",
        "% matplotlib inline\n",
        "plt.scatter(train_df['assists'],train_df['winPlacePerc'])\n",
        "plt.xlabel('assists')\n",
        "plt.ylabel('winPlacePerc')"
      ],
      "metadata": {
        "id": "khAPAKpG20CQ"
      },
      "execution_count": null,
      "outputs": []
    },
    {
      "cell_type": "code",
      "source": [
        "plt.scatter(train_df['damageDealt'],train_df['winPlacePerc'])\n",
        "plt.xlabel('damageDealt')\n",
        "plt.ylabel('winPlacePerc')"
      ],
      "metadata": {
        "id": "Eq9t_WbU3rQw"
      },
      "execution_count": null,
      "outputs": []
    },
    {
      "cell_type": "code",
      "source": [
        "plt.scatter(train_df['headshotKills'],train_df['winPlacePerc'])\n",
        "plt.xlabel('headshotKills')\n",
        "plt.ylabel('winPlacePerc')"
      ],
      "metadata": {
        "id": "2lH_GDI96XoO"
      },
      "execution_count": null,
      "outputs": []
    },
    {
      "cell_type": "code",
      "source": [
        "plt.scatter(train_df['heals'],train_df['winPlacePerc'])\n",
        "plt.xlabel('heals')\n",
        "plt.ylabel('winPlacePerc')"
      ],
      "metadata": {
        "id": "AThpuaH86Ybc"
      },
      "execution_count": null,
      "outputs": []
    },
    {
      "cell_type": "code",
      "source": [
        "plt.scatter(train_df['killPlace'],train_df['winPlacePerc'])\n",
        "plt.xlabel('killPlace')\n",
        "plt.ylabel('winPlacePerc')"
      ],
      "metadata": {
        "id": "Wh_iaZol6YZA"
      },
      "execution_count": null,
      "outputs": []
    },
    {
      "cell_type": "code",
      "source": [
        "plt.scatter(train_df['killPoints'],train_df['winPlacePerc'])\n",
        "plt.xlabel('killPoints')\n",
        "plt.ylabel('winPlacePerc')"
      ],
      "metadata": {
        "id": "zIzYgf6T6YWd"
      },
      "execution_count": null,
      "outputs": []
    },
    {
      "cell_type": "code",
      "source": [
        "plt.scatter(train_df['kills'],train_df['winPlacePerc'])\n",
        "plt.xlabel('kills')\n",
        "plt.ylabel('winPlacePerc')"
      ],
      "metadata": {
        "id": "Cb-oMitH6YUM"
      },
      "execution_count": null,
      "outputs": []
    },
    {
      "cell_type": "code",
      "source": [
        "plt.scatter(train_df['killStreaks'],train_df['winPlacePerc'])\n",
        "plt.xlabel('killStreaks')\n",
        "plt.ylabel('winPlacePerc')"
      ],
      "metadata": {
        "id": "J-vyceak6YRa"
      },
      "execution_count": null,
      "outputs": []
    },
    {
      "cell_type": "code",
      "source": [
        "plt.scatter(train_df['longestKill'],train_df['winPlacePerc'])\n",
        "plt.xlabel('longestKill')\n",
        "plt.ylabel('winPlacePerc')"
      ],
      "metadata": {
        "id": "UJircVVG6YO0"
      },
      "execution_count": null,
      "outputs": []
    },
    {
      "cell_type": "code",
      "source": [
        "plt.scatter(train_df['matchDuration'],train_df['winPlacePerc'])\n",
        "plt.xlabel('matchDuration')\n",
        "plt.ylabel('winPlacePerc')"
      ],
      "metadata": {
        "id": "ZOYETtvU6YLy"
      },
      "execution_count": null,
      "outputs": []
    },
    {
      "cell_type": "markdown",
      "source": [
        "lets check the distribution of some of the features"
      ],
      "metadata": {
        "id": "SiOLgM-X7UnO"
      }
    },
    {
      "cell_type": "code",
      "source": [
        "# lets commit first\n",
        "jovian.commit(project=\"PUBG-Playground-Finish-Prediction\")"
      ],
      "metadata": {
        "id": "eUBTMg3e6YH4"
      },
      "execution_count": null,
      "outputs": []
    },
    {
      "cell_type": "markdown",
      "source": [
        "Let us check for nulti collinearity"
      ],
      "metadata": {
        "id": "vXFFgAgkPqMk"
      }
    },
    {
      "cell_type": "markdown",
      "source": [
        "Multicollinearity occurs when there are 2 or more independent variables in a multiple regression model which have a high correlation among themselves.\n",
        "\n",
        "When some features are highly correlated we might have difficukty in distinguihing between theeir individual edffetcs on the dependent variable.\n",
        "\n",
        "Multicollinearity can be detected by various tehniques, once such is VIF (Variance Inflation Factor)\n",
        "\n",
        "In VIF method, we pick each feature and regress it against all of the other features. For each regression, the factoir VIF is calculated.\n",
        "\n",
        "The VIF can be calculated for numerical features only"
      ],
      "metadata": {
        "id": "O-BDngn5Sr7G"
      }
    },
    {
      "cell_type": "markdown",
      "source": [
        ""
      ],
      "metadata": {
        "id": "3ZnFkmCwSry4"
      }
    },
    {
      "cell_type": "code",
      "source": [
        "jovian.commit(project=\"PUBG-Playground-Finish-Prediction\")"
      ],
      "metadata": {
        "id": "z5SC24Dt6YEr"
      },
      "execution_count": null,
      "outputs": []
    },
    {
      "cell_type": "markdown",
      "source": [
        "First lets identify the numerical coolumns"
      ],
      "metadata": {
        "id": "QDP9zZh9vixr"
      }
    },
    {
      "cell_type": "code",
      "source": [
        "num_cols = train_df.select_dtypes(exclude = 'object').columns.tolist()\n",
        "num_cols"
      ],
      "metadata": {
        "id": "vgsgtfrM6X8i"
      },
      "execution_count": null,
      "outputs": []
    },
    {
      "cell_type": "markdown",
      "source": [
        "We wil install stat models library to use it"
      ],
      "metadata": {
        "id": "xzEWA1GfykeT"
      }
    },
    {
      "cell_type": "code",
      "source": [
        "pip install statsmodels"
      ],
      "metadata": {
        "id": "DKTKKnnnypG1"
      },
      "execution_count": null,
      "outputs": []
    },
    {
      "cell_type": "code",
      "source": [
        "vif = pd.DataFrame()\n",
        "from statsmodels.stats.outliers_influence import variance_inflation_factor"
      ],
      "metadata": {
        "id": "Yq25HOF8xuE4"
      },
      "execution_count": null,
      "outputs": []
    },
    {
      "cell_type": "code",
      "source": [
        "variables = train_df[num_cols]"
      ],
      "metadata": {
        "id": "ok5hh_Jvzhoh"
      },
      "execution_count": null,
      "outputs": []
    },
    {
      "cell_type": "code",
      "source": [
        "vif['VIF'] = [variance_inflation_factor(variables.values,i) for i in range(variables.shape[1])]\n",
        "vif['features'] = variables.columns"
      ],
      "metadata": {
        "id": "XfkwlzeayOPf"
      },
      "execution_count": null,
      "outputs": []
    },
    {
      "cell_type": "code",
      "source": [
        "vif"
      ],
      "metadata": {
        "id": "Sbpx_-am4Dav"
      },
      "execution_count": null,
      "outputs": []
    },
    {
      "cell_type": "code",
      "source": [
        "vif.sort_values(['VIF'], ascending=False)"
      ],
      "metadata": {
        "id": "nd982wsL4clS"
      },
      "execution_count": null,
      "outputs": []
    },
    {
      "cell_type": "markdown",
      "source": [
        "Ideally the range of VIF consideration is as below:\n",
        "\n",
        "VIF = 1     -> No Multicollinearity\n",
        "\n",
        "1 < VIF < 5 -> Perfectly OK\n",
        "\n",
        "10 < VIF    -> Unacceptable"
      ],
      "metadata": {
        "id": "ebtF7uZG5pjq"
      }
    },
    {
      "cell_type": "markdown",
      "source": [
        "lets look at the heatmap, what it tell us\n"
      ],
      "metadata": {
        "id": "0A-9bLax7Jj_"
      }
    },
    {
      "cell_type": "code",
      "source": [
        "plt.figure(figsize = (40,20))\n",
        "plt.title('Correlation View')\n",
        "sns.heatmap(train_df.corr(), annot = True, cmap = 'viridis')\n",
        "plt.show()"
      ],
      "metadata": {
        "id": "6-z6LrIb6I6O"
      },
      "execution_count": null,
      "outputs": []
    },
    {
      "cell_type": "markdown",
      "source": [
        "So you can see that some features have very positive and strong correlation with ```winPlacePerc```\n",
        "\n",
        "\n"
      ],
      "metadata": {
        "id": "14cAyyRH8bkC"
      }
    },
    {
      "cell_type": "code",
      "source": [
        "jovian.commit(project='PUBG-Playground-Finish-Prediction')"
      ],
      "metadata": {
        "id": "UBkgV10HAwCR"
      },
      "execution_count": null,
      "outputs": []
    },
    {
      "cell_type": "markdown",
      "source": [
        "##Feature Engineering"
      ],
      "metadata": {
        "id": "7kvK1HU9-WcA"
      }
    },
    {
      "cell_type": "markdown",
      "source": [
        "Lets check the distributions of fetures to see their oreintations and identify any odd behaviour "
      ],
      "metadata": {
        "id": "vOZHmzlQBCaa"
      }
    },
    {
      "cell_type": "code",
      "source": [
        "sns.displot(train_df['winPoints'],bins=10) "
      ],
      "metadata": {
        "id": "DgFi1Drk-R7y"
      },
      "execution_count": null,
      "outputs": []
    },
    {
      "cell_type": "code",
      "source": [
        "jovian.commit(project='PUBG-Playground-Finish-Prediction')"
      ],
      "metadata": {
        "id": "Aue9z3IUDN-S"
      },
      "execution_count": null,
      "outputs": []
    },
    {
      "cell_type": "markdown",
      "source": [
        ""
      ],
      "metadata": {
        "id": "PM-CKNeWJUUs"
      }
    },
    {
      "cell_type": "code",
      "source": [
        "plt.figure(figsize = (20, 10))\n",
        "sns.countplot(train_df['kills'])"
      ],
      "metadata": {
        "id": "p56DnsSFKfZi"
      },
      "execution_count": null,
      "outputs": []
    },
    {
      "cell_type": "markdown",
      "source": [
        "As the distrubution is skewed towards right, lets trim the data to only contain values less than 20"
      ],
      "metadata": {
        "id": "j6fgV866Msv4"
      }
    },
    {
      "cell_type": "code",
      "source": [
        "indexes = train_df[train_df['kills'] > 20].index\n",
        "train_df.drop(index = indexes, inplace = True)"
      ],
      "metadata": {
        "id": "muMjB_OwMsfL"
      },
      "execution_count": null,
      "outputs": []
    },
    {
      "cell_type": "markdown",
      "source": [
        "Checking ```Heals```"
      ],
      "metadata": {
        "id": "DlxmL-njOKxr"
      }
    },
    {
      "cell_type": "code",
      "source": [
        "sns.displot(train_df['heals'],bins=10)"
      ],
      "metadata": {
        "id": "o3P_081ROD3z"
      },
      "execution_count": null,
      "outputs": []
    },
    {
      "cell_type": "code",
      "source": [
        "# Removing heals which are more than 35\n",
        "\n",
        "indexes = train_df[train_df['heals'] > 35].index\n",
        "train_df.drop(index = indexes, inplace = True)"
      ],
      "metadata": {
        "id": "8zDyOq-LOg7R"
      },
      "execution_count": null,
      "outputs": []
    },
    {
      "cell_type": "markdown",
      "source": [
        "Checking Weapons Acquired"
      ],
      "metadata": {
        "id": "vwBocuCZO06n"
      }
    },
    {
      "cell_type": "code",
      "source": [
        "sns.displot(train_df['weaponsAcquired'], bins=50)"
      ],
      "metadata": {
        "id": "0zEHc7I_Om6d"
      },
      "execution_count": null,
      "outputs": []
    },
    {
      "cell_type": "code",
      "source": [
        "# Removing weaponsAcquired which are more than 50\n",
        "\n",
        "indexes = train_df[train_df['weaponsAcquired'] > 50].index\n",
        "train_df.drop(index = indexes, inplace = True)"
      ],
      "metadata": {
        "id": "aK6uIsjyO_oF"
      },
      "execution_count": null,
      "outputs": []
    },
    {
      "cell_type": "markdown",
      "source": [
        "Checking Swim Distance"
      ],
      "metadata": {
        "id": "x_CJvPOnPKAH"
      }
    },
    {
      "cell_type": "code",
      "source": [
        "sns.displot(train_df['swimDistance'])"
      ],
      "metadata": {
        "id": "C7YoYo14PJx6"
      },
      "execution_count": null,
      "outputs": []
    },
    {
      "cell_type": "code",
      "source": [
        "# Removing swimDistance which are more than 1500\n",
        "\n",
        "indexes = train_df[train_df['swimDistance'] > 1500].index\n",
        "train_df.drop(index = indexes, inplace = True)"
      ],
      "metadata": {
        "id": "fkAJd_evPZi4"
      },
      "execution_count": 57,
      "outputs": []
    },
    {
      "cell_type": "markdown",
      "source": [
        "Checking Ride Distance"
      ],
      "metadata": {
        "id": "JogLUucgPmll"
      }
    },
    {
      "cell_type": "code",
      "source": [
        "sns.displot(train_df['rideDistance'])"
      ],
      "metadata": {
        "id": "wb8Ih8-OPqQq"
      },
      "execution_count": null,
      "outputs": []
    },
    {
      "cell_type": "code",
      "source": [
        "# Removing rideDistance which are more than 20000\n",
        "\n",
        "indexes = train_df[train_df['rideDistance'] > 20000].index\n",
        "train_df.drop(index = indexes, inplace = True)"
      ],
      "metadata": {
        "id": "_hDpJ7D5Pw6Z"
      },
      "execution_count": null,
      "outputs": []
    },
    {
      "cell_type": "markdown",
      "source": [
        "Checking walkDistance"
      ],
      "metadata": {
        "id": "Sn-9WPtcQKSE"
      }
    },
    {
      "cell_type": "code",
      "source": [
        "sns.displot(train_df['walkDistance'],bins=1000)"
      ],
      "metadata": {
        "id": "-n3pGsHoQMAT"
      },
      "execution_count": null,
      "outputs": []
    },
    {
      "cell_type": "code",
      "source": [
        "# Removing walkDistance which are more than 10000\n",
        "\n",
        "indexes = train_df[train_df['walkDistance'] > 10000].index\n",
        "train_df.drop(index = indexes, inplace = True)"
      ],
      "metadata": {
        "id": "27Y61_IvQSfy"
      },
      "execution_count": null,
      "outputs": []
    },
    {
      "cell_type": "markdown",
      "source": [
        "Checking longestKill"
      ],
      "metadata": {
        "id": "Biu-lRX_QiSt"
      }
    },
    {
      "cell_type": "code",
      "source": [
        "#Removing longestKill which are more than 1000\n",
        "\n",
        "indexes = train_df[train_df['longestKill'] > 1000].index\n",
        "train_df.drop(index = indexes, inplace = True)"
      ],
      "metadata": {
        "id": "XoicoImCQkSC"
      },
      "execution_count": null,
      "outputs": []
    },
    {
      "cell_type": "markdown",
      "source": [
        "Lets see unique entries of roadkill"
      ],
      "metadata": {
        "id": "aelXPx_URBEe"
      }
    },
    {
      "cell_type": "code",
      "source": [
        "train_df['roadKills'].unique()"
      ],
      "metadata": {
        "id": "XSOIK_2BRFAo"
      },
      "execution_count": null,
      "outputs": []
    },
    {
      "cell_type": "code",
      "source": [
        "# we weill just drop all the rows were the roadKills values are greater than 10\n",
        "\n",
        "indexes = train_df[train_df['roadKills'] > 10].index\n",
        "train_df.drop(index = indexes, inplace = True)"
      ],
      "metadata": {
        "id": "8TYh3jSSRLoK"
      },
      "execution_count": null,
      "outputs": []
    },
    {
      "cell_type": "markdown",
      "source": [
        "Checking Damage Dealt"
      ],
      "metadata": {
        "id": "RMQ0M00kRhra"
      }
    },
    {
      "cell_type": "code",
      "source": [
        "fig,(ax1,ax2)=plt.subplots(1,2)\n",
        "fig.set_figwidth(20)\n",
        "\n",
        "sns.distplot(train_df['damageDealt'],ax=ax1)\n",
        "sns.boxplot(train_df['damageDealt'],ax=ax2)\n"
      ],
      "metadata": {
        "id": "TqrcpwRaRRfJ"
      },
      "execution_count": null,
      "outputs": []
    },
    {
      "cell_type": "code",
      "source": [
        "# dropping damageDealt where more than 1500\n",
        "\n",
        "indexes = train_df[train_df['damageDealt'] > 1500].index\n",
        "train_df.drop(index = indexes, inplace = True)"
      ],
      "metadata": {
        "id": "2f8u2X8wSbzF"
      },
      "execution_count": null,
      "outputs": []
    },
    {
      "cell_type": "code",
      "source": [
        "jovian.commit(project='PUBG-Playground-Finish-Prediction.ipynb')"
      ],
      "metadata": {
        "id": "u8No99_cS6Jy"
      },
      "execution_count": null,
      "outputs": []
    }
  ],
  "metadata": {
    "kernelspec": {
      "display_name": "Python 3 (ipykernel)",
      "language": "python",
      "name": "python3"
    },
    "language_info": {
      "codemirror_mode": {
        "name": "ipython",
        "version": 3
      },
      "file_extension": ".py",
      "mimetype": "text/x-python",
      "name": "python",
      "nbconvert_exporter": "python",
      "pygments_lexer": "ipython3",
      "version": "3.9.6"
    },
    "colab": {
      "name": "PUBG-Playground-Finish-Prediction.ipynb",
      "provenance": [],
      "collapsed_sections": [],
      "include_colab_link": true
    }
  },
  "nbformat": 4,
  "nbformat_minor": 0
}